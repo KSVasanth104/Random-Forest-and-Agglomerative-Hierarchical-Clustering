{
 "cells": [
  {
   "cell_type": "code",
   "execution_count": 1,
   "id": "55db7964",
   "metadata": {},
   "outputs": [],
   "source": [
    "import numpy as np\n",
    "import pandas as pd\n",
    "import random\n",
    "from sklearn.model_selection import train_test_split\n",
    "import matplotlib.pyplot as plt\n",
    "%matplotlib inline"
   ]
  },
  {
   "cell_type": "code",
   "execution_count": 2,
   "id": "5a39fac8",
   "metadata": {},
   "outputs": [],
   "source": [
    "from sklearn.datasets import load_boston\n",
    "data =load_boston()"
   ]
  },
  {
   "cell_type": "markdown",
   "id": "2e22cbf9",
   "metadata": {},
   "source": [
    "### concatinating features and data"
   ]
  },
  {
   "cell_type": "markdown",
   "id": "0f1e9c09",
   "metadata": {},
   "source": [
    "### splitting the dataset"
   ]
  },
  {
   "cell_type": "code",
   "execution_count": 3,
   "id": "e0948963",
   "metadata": {},
   "outputs": [],
   "source": [
    "X_train, X_test, y_train, y_test = train_test_split(data.data,data.target, test_size=0.33, random_state=1307)"
   ]
  },
  {
   "cell_type": "code",
   "execution_count": 4,
   "id": "9e7eec23",
   "metadata": {},
   "outputs": [],
   "source": [
    "data=np.concatenate((X_train,y_train.reshape(-1,1)),axis=1)"
   ]
  },
  {
   "cell_type": "code",
   "execution_count": 5,
   "id": "00611abf",
   "metadata": {},
   "outputs": [],
   "source": [
    "def MSE(inst):\n",
    "    sum1=np.zeros((len(X_test)))\n",
    "    sum2=np.zeros((len(X_train)))\n",
    "    for i in range(len(inst)):\n",
    "        sum1=sum1+np.array(inst[i].predict(X_test))\n",
    "        sum2=sum2+np.array(inst[i].predict(X_train))\n",
    "    predict1=sum1/len(inst)\n",
    "    predict2=sum2/len(inst)\n",
    "    mse1= (sum((y_test - predict1)**2))/len(y_test)\n",
    "    mse2= (sum((y_train - predict2)**2))/len(y_train)\n",
    "    return [mse1,mse2]"
   ]
  },
  {
   "cell_type": "code",
   "execution_count": 6,
   "id": "00e35b71",
   "metadata": {},
   "outputs": [],
   "source": [
    "class decisionTree:\n",
    "    def __init__(self,data,index,depth):\n",
    "        \n",
    "        if depth==0:\n",
    "            \n",
    "            self.leaf = True\n",
    "            self.prediction = avg(data,index)\n",
    "            \n",
    "        elif len(np.unique(data[:,-1])) == 1:\n",
    "            \n",
    "            self.leaf = True\n",
    "            self.prediction = data[0][-1]\n",
    "            \n",
    "        else:\n",
    "            \n",
    "            self.leaf = False\n",
    "            self.attr , self.thresh , self.L , self.R = self.split(data,index,depth)\n",
    "                        \n",
    "    def split(self,data,index,depth):\n",
    "        \n",
    "        n_feature = (data.shape[1])-1\n",
    "        tmp = np.inf\n",
    "        shuffle=np.random.permutation(n_feature)\n",
    "        sam_feature=shuffle[0:5]\n",
    "        \n",
    "        for i in sam_feature:\n",
    "            \n",
    "            p_thresh = np.unique(data[:,i])\n",
    "            \n",
    "            for val in p_thresh:\n",
    "                \n",
    "                left = [ j for j in index if data[j][i]<=val ]\n",
    "                right = [ j for j in index if data[j][i]>val ]\n",
    "                \n",
    "                t_rss = rss(data,left) + rss(data,right)\n",
    "                \n",
    "                if t_rss < tmp:\n",
    "    \n",
    "                    tmp , attr ,thresh, L , R = t_rss , i , val , left , right\n",
    "        \n",
    "        return attr , thresh , decisionTree(data,L,depth-1) , decisionTree(data,R,depth-1)\n",
    "    \n",
    "    \n",
    "    def predict_calc(self,data):\n",
    "        \n",
    "        if self.leaf==True:\n",
    "            \n",
    "            return self.prediction\n",
    "        \n",
    "        if data[self.attr]<=self.thresh: # checking for threshold\n",
    "            \n",
    "            return self.L.predict_calc(data)   # left side of prediction\n",
    "        \n",
    "        else:\n",
    "            return self.R.predict_calc(data)\n",
    "    \n",
    "    def predict(self,data):\n",
    "        \n",
    "        return [self.predict_calc(i) for i in data]\n",
    "    \n",
    "def avg(data,index):     \n",
    "    \n",
    "    if len(index) == 0:\n",
    "        return 0.0\n",
    "    return sum([ data[i][-1] for i in index ]) / len(index)\n",
    "\n",
    "def rss(data,index):\n",
    "    \n",
    "    if len(index) == 0:\n",
    "        return 0.0\n",
    "    \n",
    "    mean = avg(data,index)\n",
    "    \n",
    "    return sum([ pow( data[i][-1]-mean , 2.0 ) for i in index ])"
   ]
  },
  {
   "cell_type": "code",
   "execution_count": 7,
   "id": "10259523",
   "metadata": {},
   "outputs": [],
   "source": [
    "inst=[]"
   ]
  },
  {
   "cell_type": "code",
   "execution_count": 8,
   "id": "8830e5eb",
   "metadata": {},
   "outputs": [],
   "source": [
    "for i in range(100):\n",
    "    BST=data[np.random.randint(0,len(X_train),100)]\n",
    "    indices = list(range(len(BST)))\n",
    "    inst.append(decisionTree(BST,indices,3))"
   ]
  },
  {
   "cell_type": "code",
   "execution_count": 9,
   "id": "852de35c",
   "metadata": {},
   "outputs": [],
   "source": [
    "err= MSE(inst)"
   ]
  },
  {
   "cell_type": "code",
   "execution_count": 10,
   "id": "c1aa36dd",
   "metadata": {},
   "outputs": [
    {
     "data": {
      "text/plain": [
       "[15.879973404381515, 15.324357188457064]"
      ]
     },
     "execution_count": 10,
     "metadata": {},
     "output_type": "execute_result"
    }
   ],
   "source": [
    "err"
   ]
  },
  {
   "cell_type": "code",
   "execution_count": 11,
   "id": "d59b8c25",
   "metadata": {},
   "outputs": [],
   "source": [
    "# vec1 = different value of depth\n",
    "# vec2 = different value of bootstrapped data"
   ]
  },
  {
   "cell_type": "code",
   "execution_count": 12,
   "id": "9087c1b1",
   "metadata": {},
   "outputs": [],
   "source": [
    "vec1=3"
   ]
  },
  {
   "cell_type": "code",
   "execution_count": 13,
   "id": "b16dfa10",
   "metadata": {},
   "outputs": [],
   "source": [
    "vec2=[100,130,150,200]"
   ]
  },
  {
   "cell_type": "code",
   "execution_count": 14,
   "id": "13c5da1e",
   "metadata": {},
   "outputs": [],
   "source": [
    "# function for MSE"
   ]
  },
  {
   "cell_type": "code",
   "execution_count": 15,
   "id": "9fef18d0",
   "metadata": {},
   "outputs": [],
   "source": [
    "li=[]\n",
    "inst=[]\n",
    "for j in range(len(vec2)) :\n",
    "    for i in range(vec2[j]):\n",
    "        BST=data[np.random.randint(0,len(X_train),vec2[j])]\n",
    "        all_indx = list(range(len(BST)))\n",
    "        inst.append(decisionTree(BST,all_indx,vec1))\n",
    "    li.append(MSE(inst))"
   ]
  },
  {
   "cell_type": "code",
   "execution_count": 16,
   "id": "82b93f24",
   "metadata": {},
   "outputs": [],
   "source": [
    "#plotting "
   ]
  },
  {
   "cell_type": "code",
   "execution_count": null,
   "id": "625e0af2",
   "metadata": {},
   "outputs": [],
   "source": []
  },
  {
   "cell_type": "code",
   "execution_count": 17,
   "id": "fe62e7c1",
   "metadata": {
    "scrolled": true
   },
   "outputs": [
    {
     "data": {
      "text/plain": [
       "<matplotlib.legend.Legend at 0x1bc5da9e580>"
      ]
     },
     "execution_count": 17,
     "metadata": {},
     "output_type": "execute_result"
    },
    {
     "data": {
      "image/png": "[encoded data removed]",
      "text/plain": [
       "<Figure size 432x288 with 1 Axes>"
      ]
     },
     "metadata": {
      "needs_background": "light"
     },
     "output_type": "display_data"
    }
   ],
   "source": [
    "li=np.array(li)\n",
    "plt.plot(vec2,li[:,0],label='Test MSE')\n",
    "plt.plot(vec2,li[:,1],label = 'Train MSE')\n",
    "plt.xlabel('BTS')\n",
    "plt.legend()"
   ]
  },
  {
   "cell_type": "code",
   "execution_count": 18,
   "id": "00306536",
   "metadata": {},
   "outputs": [],
   "source": [
    "vec3=[2,3,4]\n",
    "vec4=100"
   ]
  },
  {
   "cell_type": "code",
   "execution_count": 19,
   "id": "b13d6aa0",
   "metadata": {},
   "outputs": [],
   "source": [
    "li=[]\n",
    "inst=[]\n",
    "for j in range(len(vec3)) :\n",
    "    for i in range(vec4):\n",
    "        BST=data[np.random.randint(0,len(X_train),vec4)]\n",
    "        all_indx = list(range(len(BST)))\n",
    "        inst.append(decisionTree(BST,all_indx,vec3[j]))\n",
    "    li.append(MSE(inst))"
   ]
  },
  {
   "cell_type": "code",
   "execution_count": 20,
   "id": "16033966",
   "metadata": {},
   "outputs": [
    {
     "data": {
      "text/plain": [
       "<matplotlib.legend.Legend at 0x1bc5dafe880>"
      ]
     },
     "execution_count": 20,
     "metadata": {},
     "output_type": "execute_result"
    },
    {
     "data": {
      "image/png": "[encoded data removed]",
      "text/plain": [
       "<Figure size 432x288 with 1 Axes>"
      ]
     },
     "metadata": {
      "needs_background": "light"
     },
     "output_type": "display_data"
    }
   ],
   "source": [
    "li=np.array(li)\n",
    "plt.plot(vec3,li[:,0],label='Test MSE')\n",
    "plt.plot(vec3,li[:,1],label='Train MSE')\n",
    "plt.xlabel('height')\n",
    "plt.legend()"
   ]
  },
  {
   "cell_type": "code",
   "execution_count": null,
   "id": "50a257f0",
   "metadata": {},
   "outputs": [],
   "source": []
  },
  {
   "cell_type": "code",
   "execution_count": null,
   "id": "c0d3327b",
   "metadata": {},
   "outputs": [],
   "source": []
  }
 ],
 "metadata": {
  "kernelspec": {
   "display_name": "Python 3",
   "language": "python",
   "name": "python3"
  },
  "language_info": {
   "codemirror_mode": {
    "name": "ipython",
    "version": 3
   },
   "file_extension": ".py",
   "mimetype": "text/x-python",
   "name": "python",
   "nbconvert_exporter": "python",
   "pygments_lexer": "ipython3",
   "version": "3.8.8"
  }
 },
 "nbformat": 4,
 "nbformat_minor": 5
}
