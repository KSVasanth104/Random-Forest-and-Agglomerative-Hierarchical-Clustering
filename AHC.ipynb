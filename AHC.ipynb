{
 "cells": [
  {
   "cell_type": "code",
   "execution_count": 1,
   "id": "c93b731b",
   "metadata": {},
   "outputs": [],
   "source": [
    "import numpy as np\n",
    "import pandas as pd\n",
    "import random\n",
    "from sklearn.model_selection import train_test_split\n",
    "import matplotlib.pyplot as plt\n",
    "%matplotlib inline"
   ]
  },
  {
   "cell_type": "code",
   "execution_count": null,
   "id": "431355c9",
   "metadata": {},
   "outputs": [],
   "source": [
    "# loading and transposing data"
   ]
  },
  {
   "cell_type": "code",
   "execution_count": 2,
   "id": "28af5bcd",
   "metadata": {},
   "outputs": [],
   "source": [
    "data=pd.read_table('ncidata.txt',delim_whitespace=True,header=None).T"
   ]
  },
  {
   "cell_type": "code",
   "execution_count": 11,
   "id": "bf89a344",
   "metadata": {},
   "outputs": [],
   "source": [
    "class AHC:\n",
    "    \n",
    "    def __init__(self,data,index,n):\n",
    "        \n",
    "        if len(index)>1:\n",
    "            self.leaf=False # setting node \n",
    "            self.height,self.observation,self.node=self.dist(data,index,n) # calling distance function\n",
    "        \n",
    "    def dist(self,data,index,n): \n",
    "        mini= np.inf\n",
    "        m=0\n",
    "        k=0\n",
    "        dist=0\n",
    "        for i in index:\n",
    "            for j in index:\n",
    "                if i!=j:\n",
    "                    if len(i)==1 and len(j)==1: # distance calculation for single clusters\n",
    "                        dist=np.linalg.norm(np.array(data[i])-np.array(data[j])) \n",
    "                        if dist<mini: # finding minimum distance\n",
    "                            mini=dist\n",
    "                            m=i\n",
    "                            k=j\n",
    "                    else: \n",
    "                        dist=self.distance1(data,i,j,n) #calling distance for multiple clusters\n",
    "                        if dist<mini:\n",
    "                            mini=dist\n",
    "                            m=i\n",
    "                            k=j\n",
    "                            \n",
    "        for val in range(len(k)): \n",
    "            m.append(k[val]) # append the index \n",
    "        index.remove(k) # remove the index\n",
    "                    \n",
    "        return mini,m,AHC(data,index,n)\n",
    "    \n",
    "    def distance1(self,data,i,j,n):   # distance function for sample and cluster\n",
    "        if len(i)<=2 and len(j)<=2:\n",
    "            dist= np.sqrt(sum((np.array(data[i])-np.array(data[j]))**2))\n",
    "            if n == 1:\n",
    "                return min(dist)   # sample linkage\n",
    "            elif n == 2:\n",
    "                return max(dist) # complex linkage\n",
    "            elif n == 3:\n",
    "                return np.mean(dist) # average linkage\n",
    "                \n",
    "                \n",
    "        else:\n",
    "            return self.distance2(data,i,j,n) # distance between clusters\n",
    "        \n",
    "    def distance2(self,data,i,j,n):\n",
    "        \n",
    "        dist = []\n",
    "        for value in i:\n",
    "            for num in j:\n",
    "                dist.append(np.linalg.norm(np.array(data[value])-np.array(data[num])))\n",
    "        if n == 1:\n",
    "            return min(dist) # sample linkage\n",
    "        elif n == 2:\n",
    "            return max(dist) # complex linkage \n",
    "        elif n == 3:\n",
    "            return np.mean(dist) # average linkage"
   ]
  },
  {
   "cell_type": "markdown",
   "id": "94ab880c",
   "metadata": {},
   "source": [
    "**n=1----------sample linkage**\n",
    "\n",
    "**n=2----------complex linkage**\n",
    "\n",
    "**n=3----------average linkage**"
   ]
  },
  {
   "cell_type": "code",
   "execution_count": 12,
   "id": "5f6c0187",
   "metadata": {},
   "outputs": [],
   "source": [
    "index=[[i] for i in range(data.shape[0])] # index values as list of listn range(data.shape[0])]"
   ]
  },
  {
   "cell_type": "code",
   "execution_count": 13,
   "id": "ce8a1286",
   "metadata": {},
   "outputs": [],
   "source": [
    "inst=AHC(data,index,2) # calling AHC"
   ]
  },
  {
   "cell_type": "code",
   "execution_count": 15,
   "id": "04da939a",
   "metadata": {},
   "outputs": [
    {
     "data": {
      "text/plain": [
       "[21, 22, 23, 24, 25, 28, 29, 26, 27]"
      ]
     },
     "execution_count": 15,
     "metadata": {},
     "output_type": "execute_result"
    }
   ],
   "source": [
    "inst.node.node.observation"
   ]
  },
  {
   "cell_type": "code",
   "execution_count": null,
   "id": "37ba2b11",
   "metadata": {},
   "outputs": [],
   "source": []
  }
 ],
 "metadata": {
  "kernelspec": {
   "display_name": "Python 3",
   "language": "python",
   "name": "python3"
  },
  "language_info": {
   "codemirror_mode": {
    "name": "ipython",
    "version": 3
   },
   "file_extension": ".py",
   "mimetype": "text/x-python",
   "name": "python",
   "nbconvert_exporter": "python",
   "pygments_lexer": "ipython3",
   "version": "3.8.8"
  }
 },
 "nbformat": 4,
 "nbformat_minor": 5
}
